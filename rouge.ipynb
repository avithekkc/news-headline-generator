{
  "nbformat": 4,
  "nbformat_minor": 0,
  "metadata": {
    "colab": {
      "name": "Rouge.ipynb",
      "provenance": [],
      "collapsed_sections": []
    },
    "kernelspec": {
      "name": "python3",
      "display_name": "Python 3"
    },
    "language_info": {
      "name": "python"
    }
  },
  "cells": [
    {
      "cell_type": "code",
      "metadata": {
        "id": "xvvDIMyS0JeJ"
      },
      "source": [
        "!pip install sumeval\n",
        "!python -m spacy download en"
      ],
      "execution_count": null,
      "outputs": []
    },
    {
      "cell_type": "code",
      "metadata": {
        "id": "uUGxxAUU1Cuh"
      },
      "source": [
        "import pandas as pd"
      ],
      "execution_count": 6,
      "outputs": []
    },
    {
      "cell_type": "code",
      "metadata": {
        "id": "oaLuycno0Mtz"
      },
      "source": [
        "from sumeval.metrics.rouge import RougeCalculator"
      ],
      "execution_count": 2,
      "outputs": []
    },
    {
      "cell_type": "code",
      "metadata": {
        "id": "gmE-PAqa0yJh"
      },
      "source": [
        "df = pd.read_csv('/content/drive/MyDrive/Colab Notebooks/test_prediction.csv')"
      ],
      "execution_count": 7,
      "outputs": []
    },
    {
      "cell_type": "code",
      "metadata": {
        "id": "o-Nswtib1tGy"
      },
      "source": [
        "df.replace('sostok','', regex=True, inplace=True)\n",
        "df.replace('eostok','', regex=True, inplace=True)"
      ],
      "execution_count": 8,
      "outputs": []
    },
    {
      "cell_type": "code",
      "metadata": {
        "id": "-wUai2Id14Kp"
      },
      "source": [
        "df = df[['summary_original','summary_predicted']]"
      ],
      "execution_count": 11,
      "outputs": []
    },
    {
      "cell_type": "code",
      "metadata": {
        "id": "kwDJAocp0YJi"
      },
      "source": [
        "rouge = RougeCalculator(stopwords=True, lang=\"en\")\n",
        "\n",
        "rn1 = list()\n",
        "rn2 = list()\n",
        "rL = list()\n",
        "rbe = list()\n",
        "\n",
        "for i in range(0,df.shape[0]):\n",
        "  model_summary = df.loc[i,'summary_predicted']\n",
        "  refrence_summary = df.loc[i,'summary_original']\n",
        "\n",
        "  rouge_n_1 = rouge.rouge_n(\n",
        "              summary=model_summary,\n",
        "              references=refrence_summary,\n",
        "              n=1)\n",
        "\n",
        "  rouge_n_2 = rouge.rouge_n(\n",
        "              summary=model_summary,\n",
        "              references=[refrence_summary],\n",
        "              n=2)\n",
        "\n",
        "  rouge_l = rouge.rouge_l(\n",
        "              summary=model_summary,\n",
        "              references=[refrence_summary])\n",
        "\n",
        "  # You need spaCy to calculate ROUGE-BE\n",
        "\n",
        "  rouge_be = rouge.rouge_be(\n",
        "              summary=model_summary,\n",
        "              references=[refrence_summary])\n",
        "  \n",
        "  \n",
        "  rn1.append(rouge_n_1)\n",
        "  rn2.append(rouge_n_2)\n",
        "  rL.append(rouge_l)\n",
        "  rbe.append(rouge_be)"
      ],
      "execution_count": null,
      "outputs": []
    },
    {
      "cell_type": "code",
      "metadata": {
        "id": "O729DaCI4tUn"
      },
      "source": [
        "print(rn1) \n",
        "print(rn2) \n",
        "print(rL) \n",
        "print(rbe)"
      ],
      "execution_count": null,
      "outputs": []
    },
    {
      "cell_type": "code",
      "metadata": {
        "id": "7W8F8ZGN9e_q"
      },
      "source": [
        "import numpy as np"
      ],
      "execution_count": 38,
      "outputs": []
    },
    {
      "cell_type": "code",
      "metadata": {
        "colab": {
          "base_uri": "https://localhost:8080/",
          "height": 0
        },
        "id": "5VaWi2Wu-ONB",
        "outputId": "311264e5-9f79-4eb4-b659-ccc2a976c073"
      },
      "source": [
        "print('ROUGE 1',np.sum(rn1)/len(rn1))\n",
        "print('ROUGE L',np.sum(rL)/len(rL))"
      ],
      "execution_count": 43,
      "outputs": [
        {
          "output_type": "stream",
          "name": "stdout",
          "text": [
            "ROUGE 1 0.22546660601523907\n",
            "ROUGE L 0.2110743398411537\n"
          ]
        }
      ]
    }
  ]
}